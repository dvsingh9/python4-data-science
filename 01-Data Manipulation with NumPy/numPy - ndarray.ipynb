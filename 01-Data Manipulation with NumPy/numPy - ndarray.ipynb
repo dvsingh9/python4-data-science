{
 "cells": [
  {
   "cell_type": "markdown",
   "metadata": {},
   "source": [
    "# Getting started with numPy "
   ]
  },
  {
   "cell_type": "code",
   "execution_count": 2,
   "metadata": {},
   "outputs": [
    {
     "name": "stdout",
     "output_type": "stream",
     "text": [
      "<class 'numpy.ndarray'>\n"
     ]
    }
   ],
   "source": [
    "import numpy as np\n",
    "nd_array = np.array([3, 33, 333]) # declare array\n",
    "print(type(nd_array))"
   ]
  },
  {
   "cell_type": "code",
   "execution_count": 5,
   "metadata": {},
   "outputs": [
    {
     "name": "stdout",
     "output_type": "stream",
     "text": [
      "(3,)\n"
     ]
    }
   ],
   "source": [
    "print(nd_array.shape) # checking the shape of array"
   ]
  },
  {
   "cell_type": "code",
   "execution_count": 6,
   "metadata": {
    "scrolled": true
   },
   "outputs": [
    {
     "name": "stdout",
     "output_type": "stream",
     "text": [
      "3 33\n"
     ]
    }
   ],
   "source": [
    "print(nd_array[0], nd_array[1]) # access elements of array by index"
   ]
  },
  {
   "cell_type": "code",
   "execution_count": 7,
   "metadata": {},
   "outputs": [
    {
     "name": "stdout",
     "output_type": "stream",
     "text": [
      "[888  33 333]\n"
     ]
    }
   ],
   "source": [
    "nd_array[0] = 888 # ndarrays are mutable\n",
    "print(nd_array)"
   ]
  },
  {
   "cell_type": "markdown",
   "metadata": {},
   "source": [
    "### Creating 2D arrays"
   ]
  },
  {
   "cell_type": "code",
   "execution_count": 11,
   "metadata": {},
   "outputs": [
    {
     "name": "stdout",
     "output_type": "stream",
     "text": [
      "(3, 3)\n",
      "[[10 11 12]\n",
      " [14 15 16]\n",
      " [20 21 22]]\n",
      "11\n"
     ]
    }
   ],
   "source": [
    "twod_array = np.array([[10,11,12], [14,15,16], [20,21,22]]) # two rank array\n",
    "print(twod_array.shape)\n",
    "print(twod_array)\n",
    "print(twod_array[0,1])"
   ]
  },
  {
   "cell_type": "markdown",
   "metadata": {},
   "source": [
    "### Other ways to create arrays\n"
   ]
  },
  {
   "cell_type": "code",
   "execution_count": 16,
   "metadata": {},
   "outputs": [
    {
     "name": "stdout",
     "output_type": "stream",
     "text": [
      "[[0. 0. 0.]\n",
      " [0. 0. 0.]\n",
      " [0. 0. 0.]]\n",
      "[[1. 1. 1. 1.]\n",
      " [1. 1. 1. 1.]\n",
      " [1. 1. 1. 1.]\n",
      " [1. 1. 1. 1.]]\n"
     ]
    }
   ],
   "source": [
    "import numpy as np\n",
    "\n",
    "zeros = np.zeros((3,3)) # 3X3 array of zeros\n",
    "print(zeros)\n",
    "\n",
    "ones = np.ones((4,4)) # 4X4 array of zeros\n",
    "print(ones)"
   ]
  },
  {
   "cell_type": "code",
   "execution_count": 18,
   "metadata": {},
   "outputs": [
    {
     "name": "stdout",
     "output_type": "stream",
     "text": [
      "[[9. 9. 9.]\n",
      " [9. 9. 9.]\n",
      " [9. 9. 9.]]\n"
     ]
    }
   ],
   "source": [
    "# filled with some value\n",
    "all_nine = np.full((3,3), 9.0)\n",
    "print(all_nine)"
   ]
  },
  {
   "cell_type": "code",
   "execution_count": 20,
   "metadata": {},
   "outputs": [
    {
     "name": "stdout",
     "output_type": "stream",
     "text": [
      "[[1. 0. 0.]\n",
      " [0. 1. 0.]\n",
      " [0. 0. 1.]]\n"
     ]
    }
   ],
   "source": [
    "# 3X3 matrix with diagonal 1 and other zero\n",
    "eye = np.eye(3,3)\n",
    "print(eye)"
   ]
  },
  {
   "cell_type": "code",
   "execution_count": 25,
   "metadata": {},
   "outputs": [
    {
     "name": "stdout",
     "output_type": "stream",
     "text": [
      "[[0.98252842 0.26233027]\n",
      " [0.34208975 0.29637978]]\n"
     ]
    }
   ],
   "source": [
    "# create random array\n",
    "\n",
    "rand = np.random.random((2,2))\n",
    "print(rand)"
   ]
  },
  {
   "cell_type": "markdown",
   "metadata": {},
   "source": [
    "## Indexing Arrays\n"
   ]
  },
  {
   "cell_type": "code",
   "execution_count": 26,
   "metadata": {
    "scrolled": true
   },
   "outputs": [
    {
     "name": "stdout",
     "output_type": "stream",
     "text": [
      "[[11 12 13]\n",
      " [21 22 23]\n",
      " [31 32 33]]\n"
     ]
    }
   ],
   "source": [
    "import numpy as np\n",
    "\n",
    "an_array = np.array([[11,12,13], [21,22,23], [31,32,33]])\n",
    "print(an_array)\n"
   ]
  },
  {
   "cell_type": "code",
   "execution_count": 28,
   "metadata": {},
   "outputs": [
    {
     "name": "stdout",
     "output_type": "stream",
     "text": [
      "[[12 13]\n",
      " [22 23]]\n"
     ]
    }
   ],
   "source": [
    "# Slicing array to get 2X2 array from above\n",
    "a_slice = an_array[0:2, 1:3]\n",
    "print(a_slice)"
   ]
  },
  {
   "cell_type": "code",
   "execution_count": 29,
   "metadata": {},
   "outputs": [
    {
     "name": "stdout",
     "output_type": "stream",
     "text": [
      "[[11 44 13]\n",
      " [21 22 23]\n",
      " [31 32 33]]\n"
     ]
    }
   ],
   "source": [
    "# Modifying slice will modify actual array\n",
    "a_slice[0,0] = 44\n",
    "print(an_array)"
   ]
  },
  {
   "cell_type": "code",
   "execution_count": 40,
   "metadata": {},
   "outputs": [
    {
     "name": "stdout",
     "output_type": "stream",
     "text": [
      "[21 22 23]\n",
      "(3,) (3, 3)\n"
     ]
    }
   ],
   "source": [
    "# Using both integer indexing & slicing generates and array of lower rank\n",
    "rank1 = an_array[1, :]\n",
    "print(rank1)\n",
    "print(rank1.shape, an_array.shape)"
   ]
  },
  {
   "cell_type": "code",
   "execution_count": 41,
   "metadata": {},
   "outputs": [
    {
     "name": "stdout",
     "output_type": "stream",
     "text": [
      "[[21 22 23]]\n",
      "(1, 3) (3, 3)\n"
     ]
    }
   ],
   "source": [
    "# slicing alone: makes the array of same rank as an_array\n",
    "rank2 = an_array[1:2, :]\n",
    "print(rank2)\n",
    "print(rank2.shape, an_array.shape)"
   ]
  },
  {
   "cell_type": "code",
   "execution_count": 43,
   "metadata": {
    "scrolled": true
   },
   "outputs": [
    {
     "name": "stdout",
     "output_type": "stream",
     "text": [
      "[44 22 32] (3,)\n",
      "[[44]\n",
      " [22]\n",
      " [32]] (3, 1)\n"
     ]
    }
   ],
   "source": [
    "# Can do same for colums\n",
    "\n",
    "col_rank1 = an_array[:, 1]\n",
    "print(col_rank1, col_rank1.shape)\n",
    "\n",
    "col_rank2 = an_array[:, 1:2]\n",
    "print(col_rank2, col_rank2.shape)"
   ]
  },
  {
   "cell_type": "markdown",
   "metadata": {},
   "source": [
    "## Boolean Indexing "
   ]
  },
  {
   "cell_type": "code",
   "execution_count": 3,
   "metadata": {},
   "outputs": [
    {
     "data": {
      "text/plain": [
       "array([[False, False, False],\n",
       "       [ True,  True,  True],\n",
       "       [ True,  True,  True]])"
      ]
     },
     "execution_count": 3,
     "metadata": {},
     "output_type": "execute_result"
    }
   ],
   "source": [
    "import numpy as np\n",
    "#Create an array\n",
    "an_array = np.array([[11,12,13], [21,22,23], [31,32,33]])\n",
    "\n",
    "# Create a filter which will be boolean value if element in array is greater than 15\n",
    "filter =(an_array > 15)\n",
    "\n",
    "filter"
   ]
  },
  {
   "cell_type": "code",
   "execution_count": 5,
   "metadata": {},
   "outputs": [
    {
     "name": "stdout",
     "output_type": "stream",
     "text": [
      "[21 22 23 31 32 33]\n"
     ]
    }
   ],
   "source": [
    "# Select those value using filter\n",
    "print(an_array[filter])"
   ]
  },
  {
   "cell_type": "code",
   "execution_count": 6,
   "metadata": {},
   "outputs": [
    {
     "data": {
      "text/plain": [
       "array([21, 22, 23, 31, 32, 33])"
      ]
     },
     "execution_count": 6,
     "metadata": {},
     "output_type": "execute_result"
    }
   ],
   "source": [
    "# all it in one step\n",
    "an_array[an_array>15]"
   ]
  },
  {
   "cell_type": "code",
   "execution_count": 7,
   "metadata": {},
   "outputs": [
    {
     "data": {
      "text/plain": [
       "array([21, 22, 23])"
      ]
     },
     "execution_count": 7,
     "metadata": {},
     "output_type": "execute_result"
    }
   ],
   "source": [
    "# can use logical expression with filters\n",
    "an_array[(an_array>15) & (an_array<25)]"
   ]
  },
  {
   "cell_type": "code",
   "execution_count": 10,
   "metadata": {
    "scrolled": false
   },
   "outputs": [
    {
     "name": "stdout",
     "output_type": "stream",
     "text": [
      "[[ 11  12  13]\n",
      " [121 122 123]\n",
      " [ 31  32  33]]\n"
     ]
    }
   ],
   "source": [
    "#Change elements of an array using filter\n",
    "an_array[(an_array>15) & (an_array<25)] +=100\n",
    "print(an_array)"
   ]
  },
  {
   "cell_type": "markdown",
   "metadata": {},
   "source": [
    "## Data Types and Operations"
   ]
  },
  {
   "cell_type": "code",
   "execution_count": 14,
   "metadata": {},
   "outputs": [
    {
     "name": "stdout",
     "output_type": "stream",
     "text": [
      "int64\n"
     ]
    }
   ],
   "source": [
    "#Python automatically assigns the datatype\n",
    "ex1 = np.array([20,21])\n",
    "print(ex1.dtype)"
   ]
  },
  {
   "cell_type": "code",
   "execution_count": 20,
   "metadata": {},
   "outputs": [
    {
     "name": "stdout",
     "output_type": "stream",
     "text": [
      "int64\n",
      "[10 11]\n"
     ]
    }
   ],
   "source": [
    "#Assign your data type: 'Python will force data type and change value accordingly'\n",
    "# Generally the result will be upcast\n",
    "ex2 = np.array([10.2,11.4], dtype=np.int64)\n",
    "print(ex2.dtype)\n",
    "print(ex2)"
   ]
  },
  {
   "cell_type": "code",
   "execution_count": 25,
   "metadata": {},
   "outputs": [
    {
     "name": "stdout",
     "output_type": "stream",
     "text": [
      "[30.  32.5]\n",
      "[30.  32.5]\n"
     ]
    }
   ],
   "source": [
    "#add\n",
    "x = np.array([20,21])\n",
    "y = np.array([10.0,11.5], dtype=np.float64)\n",
    "print(x + y)\n",
    "print(np.add(x, y))"
   ]
  },
  {
   "cell_type": "code",
   "execution_count": 32,
   "metadata": {},
   "outputs": [
    {
     "name": "stdout",
     "output_type": "stream",
     "text": [
      "[10.   9.5]\n",
      "[10.   9.5]\n"
     ]
    }
   ],
   "source": [
    "#subtract\n",
    "print(x - y)\n",
    "print(np.subtract(x,y))"
   ]
  },
  {
   "cell_type": "code",
   "execution_count": 34,
   "metadata": {},
   "outputs": [
    {
     "name": "stdout",
     "output_type": "stream",
     "text": [
      "[200.  241.5]\n",
      "[200.  241.5]\n"
     ]
    }
   ],
   "source": [
    "# multiply\n",
    "print(x * y)\n",
    "print(np.multiply(x,y))"
   ]
  },
  {
   "cell_type": "code",
   "execution_count": 37,
   "metadata": {},
   "outputs": [
    {
     "name": "stdout",
     "output_type": "stream",
     "text": [
      "[2.         1.82608696]\n",
      "[2.         1.82608696]\n"
     ]
    }
   ],
   "source": [
    "# Divide \n",
    "print(x / y)\n",
    "print(np.divide(x,y))"
   ]
  },
  {
   "cell_type": "code",
   "execution_count": 39,
   "metadata": {
    "scrolled": true
   },
   "outputs": [
    {
     "name": "stdout",
     "output_type": "stream",
     "text": [
      "[3.16227766 3.39116499]\n"
     ]
    }
   ],
   "source": [
    "#Sqrt\n",
    "print(np.sqrt(y))"
   ]
  },
  {
   "cell_type": "markdown",
   "metadata": {},
   "source": [
    "## Statistic,Sorting and Set Operations\n"
   ]
  },
  {
   "cell_type": "markdown",
   "metadata": {},
   "source": [
    "<h3 style=\"color:blue;\">Stats Basics</h3>"
   ]
  },
  {
   "cell_type": "code",
   "execution_count": 42,
   "metadata": {},
   "outputs": [
    {
     "name": "stdout",
     "output_type": "stream",
     "text": [
      "[[  2.02461414   6.32963816  11.03194776   7.13064182]\n",
      " [-15.75216386 -11.78683542   0.55047421   7.96873253]]\n"
     ]
    }
   ],
   "source": [
    "# get 2X4 random array\n",
    "arr = 10 * np.random.randn(2,4)\n",
    "print(arr)"
   ]
  },
  {
   "cell_type": "code",
   "execution_count": 44,
   "metadata": {},
   "outputs": [
    {
     "name": "stdout",
     "output_type": "stream",
     "text": [
      "0.9371311691486586\n"
     ]
    }
   ],
   "source": [
    "#Compute the mean for all elements\n",
    "print(arr.mean())"
   ]
  },
  {
   "cell_type": "code",
   "execution_count": 45,
   "metadata": {},
   "outputs": [
    {
     "name": "stdout",
     "output_type": "stream",
     "text": [
      "[ 6.62921047 -4.75494813]\n"
     ]
    }
   ],
   "source": [
    "#Compute the mean for 'row' :  1 for row\n",
    "print(arr.mean(axis =1))"
   ]
  },
  {
   "cell_type": "code",
   "execution_count": 46,
   "metadata": {},
   "outputs": [
    {
     "name": "stdout",
     "output_type": "stream",
     "text": [
      "[-6.86377486 -2.72859863  5.79121099  7.54968718]\n"
     ]
    }
   ],
   "source": [
    "#Compute the mean for 'column' : 0 for colums\n",
    "print(arr.mean(axis = 0))"
   ]
  },
  {
   "cell_type": "code",
   "execution_count": 47,
   "metadata": {},
   "outputs": [
    {
     "name": "stdout",
     "output_type": "stream",
     "text": [
      "7.497049353189269\n"
     ]
    }
   ],
   "source": [
    "#Sum all elements\n",
    "print(arr.sum())"
   ]
  },
  {
   "cell_type": "code",
   "execution_count": 48,
   "metadata": {},
   "outputs": [
    {
     "name": "stdout",
     "output_type": "stream",
     "text": [
      "[ 6.73013999 -5.6181806 ]\n"
     ]
    }
   ],
   "source": [
    "#Compute the meadian for 'row' \n",
    "print(np.median(arr, axis =1))"
   ]
  },
  {
   "cell_type": "code",
   "execution_count": 49,
   "metadata": {},
   "outputs": [
    {
     "name": "stdout",
     "output_type": "stream",
     "text": [
      "[-6.86377486 -2.72859863  5.79121099  7.54968718]\n"
     ]
    }
   ],
   "source": [
    "#Compute the meadian for 'colums' \n",
    "print(np.median(arr, axis =0))"
   ]
  },
  {
   "cell_type": "markdown",
   "metadata": {},
   "source": [
    "<h3 style=\"color:blue;\"> Sorting </h3>"
   ]
  },
  {
   "cell_type": "code",
   "execution_count": 52,
   "metadata": {},
   "outputs": [
    {
     "name": "stdout",
     "output_type": "stream",
     "text": [
      "[-0.93618741  0.14404782  1.40853178  0.12744507  0.26566051 -0.20989961\n",
      " -0.12321604  1.04228529  0.43656876  0.12562071]\n"
     ]
    }
   ],
   "source": [
    "# Create unsorted array of 10 elements\n",
    "us = np.random.randn(10)\n",
    "print(us)"
   ]
  },
  {
   "cell_type": "code",
   "execution_count": 53,
   "metadata": {},
   "outputs": [
    {
     "name": "stdout",
     "output_type": "stream",
     "text": [
      "[-0.93618741 -0.20989961 -0.12321604  0.12562071  0.12744507  0.14404782\n",
      "  0.26566051  0.43656876  1.04228529  1.40853178]\n",
      "[-0.93618741  0.14404782  1.40853178  0.12744507  0.26566051 -0.20989961\n",
      " -0.12321604  1.04228529  0.43656876  0.12562071]\n"
     ]
    }
   ],
   "source": [
    "#Create copy and Sort\n",
    "sorted = np.array(us)\n",
    "sorted.sort()\n",
    "print(sorted)\n",
    "print(us)"
   ]
  },
  {
   "cell_type": "code",
   "execution_count": 55,
   "metadata": {},
   "outputs": [
    {
     "name": "stdout",
     "output_type": "stream",
     "text": [
      "[1 2 4 5 6]\n"
     ]
    }
   ],
   "source": [
    "#finding unique elemets in the array\n",
    "array = np.array([1,2,4,2,6,5,6])\n",
    "print(np.unique(array))"
   ]
  },
  {
   "cell_type": "markdown",
   "metadata": {},
   "source": [
    "<h3 style=\"color:blue;\"> Set Operations </h3>"
   ]
  },
  {
   "cell_type": "code",
   "execution_count": 57,
   "metadata": {},
   "outputs": [
    {
     "name": "stdout",
     "output_type": "stream",
     "text": [
      "['desk' 'chair' 'bulb'] ['lamp' 'bulb' 'chair']\n"
     ]
    }
   ],
   "source": [
    "s1 = np.array(['desk', 'chair', 'bulb'])\n",
    "s2 = np.array(['lamp', 'bulb', 'chair'])\n",
    "\n",
    "print(s1, s2)"
   ]
  },
  {
   "cell_type": "code",
   "execution_count": 58,
   "metadata": {},
   "outputs": [
    {
     "name": "stdout",
     "output_type": "stream",
     "text": [
      "['bulb' 'chair']\n"
     ]
    }
   ],
   "source": [
    "# intersect 1D array\n",
    "print(np.intersect1d(s1, s2))"
   ]
  },
  {
   "cell_type": "code",
   "execution_count": 59,
   "metadata": {},
   "outputs": [
    {
     "name": "stdout",
     "output_type": "stream",
     "text": [
      "['bulb' 'chair' 'desk' 'lamp']\n"
     ]
    }
   ],
   "source": [
    "# union 1D array\n",
    "print(np.union1d(s1, s2))"
   ]
  },
  {
   "cell_type": "code",
   "execution_count": 60,
   "metadata": {},
   "outputs": [
    {
     "name": "stdout",
     "output_type": "stream",
     "text": [
      "['desk']\n"
     ]
    }
   ],
   "source": [
    "print(np.setdiff1d(s1, s2)) # element in s1 not in s2"
   ]
  },
  {
   "cell_type": "code",
   "execution_count": 61,
   "metadata": {},
   "outputs": [
    {
     "name": "stdout",
     "output_type": "stream",
     "text": [
      "[False  True  True]\n"
     ]
    }
   ],
   "source": [
    "print(np.in1d(s1, s2)) # element in s1 also in s2"
   ]
  },
  {
   "cell_type": "markdown",
   "metadata": {},
   "source": [
    "## Broadcasting"
   ]
  },
  {
   "cell_type": "code",
   "execution_count": 63,
   "metadata": {},
   "outputs": [
    {
     "name": "stdout",
     "output_type": "stream",
     "text": [
      "[[0. 0. 0.]\n",
      " [0. 0. 0.]\n",
      " [0. 0. 0.]\n",
      " [0. 0. 0.]]\n"
     ]
    }
   ],
   "source": [
    "#Create array 4X3 of zeros\n",
    "z_arr = np.zeros((4,3))\n",
    "print(z_arr)"
   ]
  },
  {
   "cell_type": "code",
   "execution_count": 65,
   "metadata": {},
   "outputs": [
    {
     "name": "stdout",
     "output_type": "stream",
     "text": [
      "[1 0 2]\n"
     ]
    }
   ],
   "source": [
    "#Create one rank array\n",
    "add_arr = np.array([1,0,2])\n",
    "print(add_arr)"
   ]
  },
  {
   "cell_type": "code",
   "execution_count": 67,
   "metadata": {},
   "outputs": [
    {
     "name": "stdout",
     "output_type": "stream",
     "text": [
      "[[1. 0. 2.]\n",
      " [1. 0. 2.]\n",
      " [1. 0. 2.]\n",
      " [1. 0. 2.]]\n"
     ]
    }
   ],
   "source": [
    "#Add each colum or 'z_arr' using broadcasting\n",
    "y = z_arr + add_arr\n",
    "print(y)"
   ]
  },
  {
   "cell_type": "code",
   "execution_count": null,
   "metadata": {},
   "outputs": [],
   "source": []
  }
 ],
 "metadata": {
  "kernelspec": {
   "display_name": "Python 3",
   "language": "python",
   "name": "python3"
  },
  "language_info": {
   "codemirror_mode": {
    "name": "ipython",
    "version": 3
   },
   "file_extension": ".py",
   "mimetype": "text/x-python",
   "name": "python",
   "nbconvert_exporter": "python",
   "pygments_lexer": "ipython3",
   "version": "3.7.3"
  }
 },
 "nbformat": 4,
 "nbformat_minor": 2
}
